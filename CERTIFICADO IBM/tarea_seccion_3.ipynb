{
 "cells": [
  {
   "cell_type": "code",
   "execution_count": 3,
   "metadata": {},
   "outputs": [
    {
     "name": "stdout",
     "output_type": "stream",
     "text": [
      "[2522.67, 1911.3900000000003, -3707.790000000001, -2914.3099999999995, -599.9200000000001, 7265.24, 8210.550000000001, 3944.9700000000003, 3328.3899999999994, -2238.6500000000015, 659.5999999999985, 11629.54]\n"
     ]
    }
   ],
   "source": [
    "### Respuesta al reto Sección 3\n",
    "\n",
    "#Datos\n",
    "ingresos = [14574.49, 7606.46, 8611.41, 9175.41, 8058.65, 8105.44, 11496.28, 9766.09, 10305.32, 14379.96, 10713.97, 15433.50]\n",
    "gastos = [12051.82, 5695.07, 12319.20, 12089.72, 8658.57, 840.20, 3285.73, 5821.12, 6976.93, 16618.61, 10054.37, 3803.96]\n",
    "\n",
    "# Calculamos la utilidad\n",
    "\n",
    "utilidad = list()\n",
    "\n",
    "for i in range(0,len(ingresos)):\n",
    "    utilidad.append(ingresos[i] - gastos[i])\n",
    "\n",
    "print(utilidad)\n"
   ]
  },
  {
   "cell_type": "code",
   "execution_count": 5,
   "metadata": {},
   "outputs": [
    {
     "name": "stdout",
     "output_type": "stream",
     "text": [
      "[756.8, 573.42, -1112.34, -874.29, -179.98, 2179.57, 2463.17, 1183.49, 998.52, -671.6, 197.88, 3488.86]\n"
     ]
    }
   ],
   "source": [
    "# Calculando el impuesto (utilidad * 30%)\n",
    "impuesto = [round(i * 0.30, 2) for i in utilidad]\n",
    "print(impuesto)\n",
    "\n",
    "\n",
    "# Calculando la utilidad neta (utilidad - impuesto)\n"
   ]
  },
  {
   "cell_type": "code",
   "execution_count": 7,
   "metadata": {},
   "outputs": [
    {
     "name": "stdout",
     "output_type": "stream",
     "text": [
      "[1765.8700000000001, 1337.9700000000003, -2595.4500000000007, -2040.0199999999995, -419.94000000000005, 5085.67, 5747.380000000001, 2761.4800000000005, 2329.8699999999994, -1567.0500000000015, 461.71999999999855, 8140.68]\n"
     ]
    }
   ],
   "source": [
    "# Calculando la utilidad después de impuestos\n",
    "\n",
    "utilidad_despues_de_impuestos = list()\n",
    "\n",
    "for i in range(0,len(utilidad)):\n",
    "    utilidad_despues_de_impuestos.append(utilidad[i] - impuesto[i])\n",
    "\n",
    "print(utilidad_despues_de_impuestos)\n",
    "\n",
    "# Calculando el total de utilidades después de impuestos\n",
    "\n"
   ]
  },
  {
   "cell_type": "code",
   "execution_count": 10,
   "metadata": {},
   "outputs": [
    {
     "name": "stdout",
     "output_type": "stream",
     "text": [
      "[12.12, 17.59, -30.14, -22.23, -5.21, 62.74, 49.99, 28.28, 22.61, -10.9, 4.31, 52.75]\n"
     ]
    }
   ],
   "source": [
    "# Calculando margen después de impuestos\n",
    "\n",
    "margen_de_utilidad = list()\n",
    "\n",
    "for i in range(0, len(utilidad)):\n",
    "    margen_de_utilidad.append(utilidad_despues_de_impuestos[i] / ingresos[i])\n",
    "\n",
    "margen_de_utilidad = [round(i * 100, 2) for i in margen_de_utilidad]\n",
    "\n",
    "print(margen_de_utilidad)\n"
   ]
  },
  {
   "cell_type": "code",
   "execution_count": 16,
   "metadata": {},
   "outputs": [
    {
     "name": "stdout",
     "output_type": "stream",
     "text": [
      "1750.6816666666664\n"
     ]
    }
   ],
   "source": [
    "# Primedio de la utilidad después de impuestos\n",
    "\n",
    "promedio_udi = sum(utilidad_despues_de_impuestos) / len(utilidad_despues_de_impuestos)\n",
    "\n",
    "print(promedio_udi)\n",
    "\n",
    "# Mes con mayor utilidad después de impuestos\n",
    "\n",
    "\n",
    "\n"
   ]
  },
  {
   "cell_type": "code",
   "execution_count": 19,
   "metadata": {},
   "outputs": [
    {
     "name": "stdout",
     "output_type": "stream",
     "text": [
      "[True, False, False, False, False, True, True, True, True, False, False, True]\n"
     ]
    }
   ],
   "source": [
    "# Calculando los meses buenos\n",
    "\n",
    "meses_buenos = list()\n",
    "\n",
    "for i in range(0, len(utilidad_despues_de_impuestos)):\n",
    "   \n",
    "        meses_buenos.append(utilidad_despues_de_impuestos[i] > promedio_udi)\n",
    "\n",
    "print(meses_buenos)\n"
   ]
  },
  {
   "cell_type": "code",
   "execution_count": 21,
   "metadata": {},
   "outputs": [
    {
     "name": "stdout",
     "output_type": "stream",
     "text": [
      "[False, True, True, True, True, False, False, False, False, True, True, False]\n"
     ]
    }
   ],
   "source": [
    "# Calculando los meses malos\n",
    "\n",
    "meses_malos = list()\n",
    "\n",
    "for i in range(0, len(utilidad_despues_de_impuestos)):\n",
    "   \n",
    "        meses_malos.append(utilidad_despues_de_impuestos[i] < promedio_udi)\n",
    "\n",
    "print(meses_malos)"
   ]
  },
  {
   "cell_type": "code",
   "execution_count": 23,
   "metadata": {},
   "outputs": [
    {
     "name": "stdout",
     "output_type": "stream",
     "text": [
      "[False, False, False, False, False, False, False, False, False, False, False, True]\n"
     ]
    }
   ],
   "source": [
    "# Obteniendo el mejor mes\n",
    "\n",
    "mejor_mes = list()\n",
    "\n",
    "for i in range(0, len(utilidad_despues_de_impuestos)):\n",
    "    mejor_mes.append( utilidad_despues_de_impuestos[i ]== max(utilidad_despues_de_impuestos))\n",
    "\n",
    "print(mejor_mes)"
   ]
  },
  {
   "cell_type": "code",
   "execution_count": 25,
   "metadata": {},
   "outputs": [
    {
     "name": "stdout",
     "output_type": "stream",
     "text": [
      "[False, False, True, False, False, False, False, False, False, False, False, False]\n"
     ]
    }
   ],
   "source": [
    "# Obteniendo el peor mes\n",
    "\n",
    "peor_mes = list()\n",
    "\n",
    "for i in range(0, len(utilidad_despues_de_impuestos)):\n",
    "    peor_mes.append(utilidad_despues_de_impuestos[i] == min(utilidad_despues_de_impuestos))\n",
    "\n",
    "print(peor_mes)  "
   ]
  },
  {
   "cell_type": "code",
   "execution_count": 27,
   "metadata": {},
   "outputs": [],
   "source": [
    "# Convirtiendo todos los valores a unidades de miles de dólares\n",
    "\n",
    "ingresos_1000 = [round(i/1000, 0) for i in ingresos]\n",
    "gastos_1000 = [round(i/1000, 0) for i in gastos]\n",
    "utilidad_1000 = [round(i/1000, 0) for i in utilidad]\n",
    "utilidad_despues_de_impuestos_1000 =[round(i/1000, 0) for i in utilidad_despues_de_impuestos]\n",
    "\n",
    "ingresos_1000 = [int(i) for i in ingresos_1000]\n",
    "gastos_1000 = [int(i) for i in gastos_1000]\n",
    "utilidad_1000 = [int(i) for i in utilidad_1000]\n",
    "utilidad_despues_de_impuestos_1000 = [int(i) for i in utilidad_despues_de_impuestos_1000]"
   ]
  },
  {
   "cell_type": "code",
   "execution_count": 29,
   "metadata": {},
   "outputs": [
    {
     "name": "stdout",
     "output_type": "stream",
     "text": [
      "Ingresos:\n",
      "[15, 8, 9, 9, 8, 8, 11, 10, 10, 14, 11, 15]\n",
      "Gastos:\n",
      "[12, 6, 12, 12, 9, 1, 3, 6, 7, 17, 10, 4]\n",
      "Utilidad:\n",
      "[3, 2, -4, -3, -1, 7, 8, 4, 3, -2, 1, 12]\n",
      "Utilidad después de impuestos:\n",
      "[2, 1, -3, -2, 0, 5, 6, 3, 2, -2, 0, 8]\n",
      "Margen de utilidad en porcentaje:\n",
      "[12.12, 17.59, -30.14, -22.23, -5.21, 62.74, 49.99, 28.28, 22.61, -10.9, 4.31, 52.75]\n",
      "Meses buenos:\n",
      "[True, False, False, False, False, True, True, True, True, False, False, True]\n",
      "Meses malos:\n",
      "[False, True, True, True, True, False, False, False, False, True, True, False]\n",
      "Mejor mes:\n",
      "[False, False, False, False, False, False, False, False, False, False, False, True]\n",
      "Peor mes:\n",
      "[False, False, True, False, False, False, False, False, False, False, False, False]\n"
     ]
    }
   ],
   "source": [
    "# Impresión de resultados\n",
    "\n",
    "print(\"Ingresos:\")\n",
    "print(ingresos_1000)\n",
    "print(\"Gastos:\")\n",
    "print(gastos_1000)\n",
    "print(\"Utilidad:\")\n",
    "print(utilidad_1000)\n",
    "print(\"Utilidad después de impuestos:\")\n",
    "print(utilidad_despues_de_impuestos_1000)\n",
    "print(\"Margen de utilidad en porcentaje:\")\n",
    "print(margen_de_utilidad)\n",
    "print(\"Meses buenos:\")\n",
    "print(meses_buenos)\n",
    "print(\"Meses malos:\") \n",
    "print(meses_malos)\n",
    "print(\"Mejor mes:\")\n",
    "print(mejor_mes)\n",
    "print(\"Peor mes:\")\n",
    "print(peor_mes)"
   ]
  }
 ],
 "metadata": {
  "kernelspec": {
   "display_name": ".venv",
   "language": "python",
   "name": "python3"
  },
  "language_info": {
   "codemirror_mode": {
    "name": "ipython",
    "version": 3
   },
   "file_extension": ".py",
   "mimetype": "text/x-python",
   "name": "python",
   "nbconvert_exporter": "python",
   "pygments_lexer": "ipython3",
   "version": "3.12.3"
  }
 },
 "nbformat": 4,
 "nbformat_minor": 2
}
