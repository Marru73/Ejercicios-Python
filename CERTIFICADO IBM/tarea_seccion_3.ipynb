{
 "cells": [
  {
   "cell_type": "code",
   "execution_count": 99,
   "metadata": {},
   "outputs": [
    {
     "name": "stdout",
     "output_type": "stream",
     "text": [
      "El total mensual sin impuestos es [2522.67, 1911.39, -3707.79, -2914.31, -599.92, 7265.24, 8210.55, 3944.97, 3328.39, -2238.65, 659.6, 11629.54]\n"
     ]
    }
   ],
   "source": [
    "#Datos\n",
    "ingresos = [14574.49, 7606.46, 8611.41, 9175.41, 8058.65, 8105.44, 11496.28, 9766.09, 10305.32, 14379.96, 10713.97, 15433.50]\n",
    "gastos = [12051.82, 5695.07, 12319.20, 12089.72, 8658.57, 840.20, 3285.73, 5821.12, 6976.93, 16618.61, 10054.37, 3803.96]\n",
    "\n",
    "sin_impuestos = []\n",
    "impuestos = []\n",
    "udi_impuestos = []\n",
    "\n",
    "# Utilidad para cada mes:\n",
    "\n",
    "for i in range(len(ingresos)):\n",
    "    a = ingresos[i] - gastos[i]\n",
    "    sin_impuestos.append(round(a, 2))\n",
    "\n",
    "print(\"El total mensual sin impuestos es\", sin_impuestos)\n",
    "\n"
   ]
  },
  {
   "cell_type": "code",
   "execution_count": 103,
   "metadata": {},
   "outputs": [
    {
     "data": {
      "text/plain": [
       "[756.8,\n",
       " 573.42,\n",
       " -1112.34,\n",
       " -874.29,\n",
       " -179.98,\n",
       " 2179.57,\n",
       " 2463.16,\n",
       " 1183.49,\n",
       " 998.52,\n",
       " -671.6,\n",
       " 197.88,\n",
       " 3488.86]"
      ]
     },
     "execution_count": 103,
     "metadata": {},
     "output_type": "execute_result"
    }
   ],
   "source": [
    "# Total de impuestos:\n",
    "\n",
    "impuesto = [round(i * 0.3, 2) for i in sin_impuestos]\n",
    "impuesto"
   ]
  },
  {
   "cell_type": "code",
   "execution_count": 105,
   "metadata": {},
   "outputs": [
    {
     "data": {
      "text/plain": [
       "[1765.8700000000001,\n",
       " 1337.9700000000003,\n",
       " -2595.45,\n",
       " -2040.02,\n",
       " -419.93999999999994,\n",
       " 5085.67,\n",
       " 5747.389999999999,\n",
       " 2761.4799999999996,\n",
       " 2329.87,\n",
       " -1567.0500000000002,\n",
       " 461.72,\n",
       " 8140.68]"
      ]
     },
     "execution_count": 105,
     "metadata": {},
     "output_type": "execute_result"
    }
   ],
   "source": [
    "# Utilidad después de impuestos, UDI, para cada mes:\n",
    "\n",
    "utilidad_despues_de_impuestos = []\n",
    "for i in range(0, len(sin_impuestos)):\n",
    "    utilidad_despues_de_impuestos.append(sin_impuestos[i] - impuesto[i])\n",
    "utilidad_despues_de_impuestos"
   ]
  },
  {
   "cell_type": "code",
   "execution_count": 108,
   "metadata": {},
   "outputs": [
    {
     "data": {
      "text/plain": [
       "[12.12,\n",
       " 17.59,\n",
       " -30.14,\n",
       " -22.23,\n",
       " -5.21,\n",
       " 62.74,\n",
       " 49.99,\n",
       " 28.28,\n",
       " 22.61,\n",
       " -10.9,\n",
       " 4.31,\n",
       " 52.75]"
      ]
     },
     "execution_count": 108,
     "metadata": {},
     "output_type": "execute_result"
    }
   ],
   "source": [
    "# Margen de utilidad para cada mes:\n",
    "\n",
    "margen_utilidad = []\n",
    "for i in range(len(sin_impuestos)):\n",
    "        margen_utilidad.append(utilidad_despues_de_impuestos[i] / ingresos[i])\n",
    "\n",
    "margen_utilidad = [round(i * 100, 2) for i in margen_utilidad]\n",
    "margen_utilidad    "
   ]
  },
  {
   "cell_type": "code",
   "execution_count": 113,
   "metadata": {},
   "outputs": [
    {
     "data": {
      "text/plain": [
       "1750.6825"
      ]
     },
     "execution_count": 113,
     "metadata": {},
     "output_type": "execute_result"
    }
   ],
   "source": [
    "# Promedio de la utilidad después de impuestos:\n",
    "\n",
    "import statistics\n",
    "\n",
    "promedio_udi = statistics.mean(utilidad_despues_de_impuestos)\n",
    "promedio_udi"
   ]
  },
  {
   "cell_type": "code",
   "execution_count": 118,
   "metadata": {},
   "outputs": [
    {
     "data": {
      "text/plain": [
       "[True, False, False, False, False, True, True, True, True, False, False, True]"
      ]
     },
     "execution_count": 118,
     "metadata": {},
     "output_type": "execute_result"
    }
   ],
   "source": [
    "# Calculando los meses buenos:\n",
    "\n",
    "meses_buenos = []\n",
    "for i in range(len(utilidad_despues_de_impuestos)):\n",
    "    meses_buenos.append(utilidad_despues_de_impuestos[i] > promedio_udi)\n",
    "\n",
    "meses_buenos"
   ]
  },
  {
   "cell_type": "code",
   "execution_count": 119,
   "metadata": {},
   "outputs": [
    {
     "data": {
      "text/plain": [
       "[False, True, True, True, True, False, False, False, False, True, True, False]"
      ]
     },
     "execution_count": 119,
     "metadata": {},
     "output_type": "execute_result"
    }
   ],
   "source": [
    "# Malos meses:\n",
    "\n",
    "meses_malos = []\n",
    "for i in range(len(utilidad_despues_de_impuestos)):\n",
    "    meses_malos.append(utilidad_despues_de_impuestos[i] < promedio_udi)\n",
    "\n",
    "meses_malos\n",
    "\n",
    "\n",
    "\n",
    "\n"
   ]
  },
  {
   "cell_type": "code",
   "execution_count": 122,
   "metadata": {},
   "outputs": [
    {
     "data": {
      "text/plain": [
       "[False,\n",
       " False,\n",
       " False,\n",
       " False,\n",
       " False,\n",
       " False,\n",
       " False,\n",
       " False,\n",
       " False,\n",
       " False,\n",
       " False,\n",
       " True]"
      ]
     },
     "execution_count": 122,
     "metadata": {},
     "output_type": "execute_result"
    }
   ],
   "source": [
    "# Mejor mes:\n",
    "\n",
    "mejor_mes = []\n",
    "\n",
    "for i in range(0, len(utilidad_despues_de_impuestos)):\n",
    "    mejor_mes.append(utilidad_despues_de_impuestos[i] == max(utilidad_despues_de_impuestos))\n",
    "\n",
    "mejor_mes"
   ]
  },
  {
   "cell_type": "code",
   "execution_count": 124,
   "metadata": {},
   "outputs": [
    {
     "data": {
      "text/plain": [
       "[False,\n",
       " False,\n",
       " True,\n",
       " False,\n",
       " False,\n",
       " False,\n",
       " False,\n",
       " False,\n",
       " False,\n",
       " False,\n",
       " False,\n",
       " False]"
      ]
     },
     "execution_count": 124,
     "metadata": {},
     "output_type": "execute_result"
    }
   ],
   "source": [
    "# Peor mes:\n",
    "\n",
    "peor_mes = []\n",
    "\n",
    "for i in range(0, len(utilidad_despues_de_impuestos)):\n",
    "    peor_mes.append(utilidad_despues_de_impuestos[i] == min(utilidad_despues_de_impuestos))\n",
    "\n",
    "peor_mes"
   ]
  },
  {
   "cell_type": "code",
   "execution_count": 127,
   "metadata": {},
   "outputs": [
    {
     "ename": "NameError",
     "evalue": "name 'utilidad_despues_de_impuestos_1000' is not defined",
     "output_type": "error",
     "traceback": [
      "\u001b[1;31m---------------------------------------------------------------------------\u001b[0m",
      "\u001b[1;31mNameError\u001b[0m                                 Traceback (most recent call last)",
      "Cell \u001b[1;32mIn[127], line 11\u001b[0m\n\u001b[0;32m      9\u001b[0m gastos_1000 \u001b[38;5;241m=\u001b[39m [\u001b[38;5;28mint\u001b[39m(i) \u001b[38;5;28;01mfor\u001b[39;00m i \u001b[38;5;129;01min\u001b[39;00m gastos_1000]\n\u001b[0;32m     10\u001b[0m sin_impuestos_1000 \u001b[38;5;241m=\u001b[39m [\u001b[38;5;28mint\u001b[39m(i) \u001b[38;5;28;01mfor\u001b[39;00m i \u001b[38;5;129;01min\u001b[39;00m sin_impuestos_1000]\n\u001b[1;32m---> 11\u001b[0m utilidad_despues_de_impuestos_1000 \u001b[38;5;241m=\u001b[39m [\u001b[38;5;28mint\u001b[39m(i) \u001b[38;5;28;01mfor\u001b[39;00m i \u001b[38;5;129;01min\u001b[39;00m \u001b[43mutilidad_despues_de_impuestos_1000\u001b[49m]\n",
      "\u001b[1;31mNameError\u001b[0m: name 'utilidad_despues_de_impuestos_1000' is not defined"
     ]
    }
   ],
   "source": [
    "# Convirtiendo todos los valores a unidades de mides de dólares:\n",
    "\n",
    "ingresos_1000 = [round(i/1000, 0) for i in ingresos]\n",
    "gastos_1000 = [round(i/1000, 0) for i in gastos]\n",
    "sin_impuestos_1000 = [round(i/1000, 0) for i in sin_impuestos]\n",
    "utilidad_despues_de_impuestos = [round(i/1000, 0) for i in utilidad_despues_de_impuestos]\n",
    "\n",
    "ingresos_1000 = [int(i) for i in ingresos_1000]\n",
    "gastos_1000 = [int(i) for i in gastos_1000]\n",
    "sin_impuestos_1000 = [int(i) for i in sin_impuestos_1000]\n",
    "utilidad_despues_de_impuestos_1000 = [int(i) for i in utilidad_despues_de_impuestos_1000]"
   ]
  }
 ],
 "metadata": {
  "kernelspec": {
   "display_name": ".venv",
   "language": "python",
   "name": "python3"
  },
  "language_info": {
   "codemirror_mode": {
    "name": "ipython",
    "version": 3
   },
   "file_extension": ".py",
   "mimetype": "text/x-python",
   "name": "python",
   "nbconvert_exporter": "python",
   "pygments_lexer": "ipython3",
   "version": "3.12.3"
  }
 },
 "nbformat": 4,
 "nbformat_minor": 2
}
